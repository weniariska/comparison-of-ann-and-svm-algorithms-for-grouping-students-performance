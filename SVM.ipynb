{
 "cells": [
  {
   "cell_type": "code",
   "execution_count": 37,
   "id": "73cad167",
   "metadata": {},
   "outputs": [
    {
     "data": {
      "text/html": [
       "<div>\n",
       "<style scoped>\n",
       "    .dataframe tbody tr th:only-of-type {\n",
       "        vertical-align: middle;\n",
       "    }\n",
       "\n",
       "    .dataframe tbody tr th {\n",
       "        vertical-align: top;\n",
       "    }\n",
       "\n",
       "    .dataframe thead th {\n",
       "        text-align: right;\n",
       "    }\n",
       "</style>\n",
       "<table border=\"1\" class=\"dataframe\">\n",
       "  <thead>\n",
       "    <tr style=\"text-align: right;\">\n",
       "      <th></th>\n",
       "      <th>gender</th>\n",
       "      <th>parental level of education</th>\n",
       "      <th>lunch</th>\n",
       "      <th>test preparation course</th>\n",
       "      <th>math score</th>\n",
       "      <th>reading score</th>\n",
       "      <th>writing score</th>\n",
       "      <th>average</th>\n",
       "      <th>classgroup</th>\n",
       "    </tr>\n",
       "  </thead>\n",
       "  <tbody>\n",
       "    <tr>\n",
       "      <th>0</th>\n",
       "      <td>male</td>\n",
       "      <td>associate s degree</td>\n",
       "      <td>free/reduced</td>\n",
       "      <td>completed</td>\n",
       "      <td>100</td>\n",
       "      <td>100</td>\n",
       "      <td>93</td>\n",
       "      <td>97.666667</td>\n",
       "      <td>group A</td>\n",
       "    </tr>\n",
       "    <tr>\n",
       "      <th>1</th>\n",
       "      <td>male</td>\n",
       "      <td>some high school</td>\n",
       "      <td>standard</td>\n",
       "      <td>completed</td>\n",
       "      <td>62</td>\n",
       "      <td>67</td>\n",
       "      <td>69</td>\n",
       "      <td>66.000000</td>\n",
       "      <td>group B</td>\n",
       "    </tr>\n",
       "    <tr>\n",
       "      <th>2</th>\n",
       "      <td>male</td>\n",
       "      <td>bachelor s degree</td>\n",
       "      <td>standard</td>\n",
       "      <td>none</td>\n",
       "      <td>77</td>\n",
       "      <td>67</td>\n",
       "      <td>68</td>\n",
       "      <td>70.666667</td>\n",
       "      <td>group B</td>\n",
       "    </tr>\n",
       "    <tr>\n",
       "      <th>3</th>\n",
       "      <td>female</td>\n",
       "      <td>associate s degree</td>\n",
       "      <td>standard</td>\n",
       "      <td>completed</td>\n",
       "      <td>59</td>\n",
       "      <td>70</td>\n",
       "      <td>66</td>\n",
       "      <td>65.000000</td>\n",
       "      <td>group B</td>\n",
       "    </tr>\n",
       "    <tr>\n",
       "      <th>4</th>\n",
       "      <td>male</td>\n",
       "      <td>bachelor s degree</td>\n",
       "      <td>standard</td>\n",
       "      <td>none</td>\n",
       "      <td>54</td>\n",
       "      <td>49</td>\n",
       "      <td>47</td>\n",
       "      <td>50.000000</td>\n",
       "      <td>group C</td>\n",
       "    </tr>\n",
       "  </tbody>\n",
       "</table>\n",
       "</div>"
      ],
      "text/plain": [
       "   gender parental level of education         lunch test preparation course  \\\n",
       "0    male          associate s degree  free/reduced               completed   \n",
       "1    male            some high school      standard               completed   \n",
       "2    male           bachelor s degree      standard                    none   \n",
       "3  female          associate s degree      standard               completed   \n",
       "4    male           bachelor s degree      standard                    none   \n",
       "\n",
       "   math score  reading score  writing score    average classgroup  \n",
       "0         100            100             93  97.666667    group A  \n",
       "1          62             67             69  66.000000    group B  \n",
       "2          77             67             68  70.666667    group B  \n",
       "3          59             70             66  65.000000    group B  \n",
       "4          54             49             47  50.000000    group C  "
      ]
     },
     "execution_count": 37,
     "metadata": {},
     "output_type": "execute_result"
    }
   ],
   "source": [
    "import pandas as pd\n",
    "df = pd.read_csv(\"StudentsPerformanceGrouping.csv\")\n",
    "df.head()"
   ]
  },
  {
   "cell_type": "code",
   "execution_count": 38,
   "id": "3ce1ac3d",
   "metadata": {},
   "outputs": [
    {
     "data": {
      "text/plain": [
       "gender                         0\n",
       "parental level of education    0\n",
       "lunch                          0\n",
       "test preparation course        0\n",
       "math score                     0\n",
       "reading score                  0\n",
       "writing score                  0\n",
       "average                        0\n",
       "classgroup                     0\n",
       "dtype: int64"
      ]
     },
     "execution_count": 38,
     "metadata": {},
     "output_type": "execute_result"
    }
   ],
   "source": [
    "# identifikasi missing value\n",
    "\n",
    "import numpy as np\n",
    "# replace \"?\" to NaN\n",
    "df.replace(\"?\", np.nan, inplace = True)\n",
    "df.isnull().sum()"
   ]
  },
  {
   "cell_type": "code",
   "execution_count": 39,
   "id": "d7de91e6",
   "metadata": {},
   "outputs": [
    {
     "data": {
      "text/html": [
       "<div>\n",
       "<style scoped>\n",
       "    .dataframe tbody tr th:only-of-type {\n",
       "        vertical-align: middle;\n",
       "    }\n",
       "\n",
       "    .dataframe tbody tr th {\n",
       "        vertical-align: top;\n",
       "    }\n",
       "\n",
       "    .dataframe thead th {\n",
       "        text-align: right;\n",
       "    }\n",
       "</style>\n",
       "<table border=\"1\" class=\"dataframe\">\n",
       "  <thead>\n",
       "    <tr style=\"text-align: right;\">\n",
       "      <th></th>\n",
       "      <th>gender</th>\n",
       "      <th>parental level of education</th>\n",
       "      <th>lunch</th>\n",
       "      <th>test preparation course</th>\n",
       "      <th>math score</th>\n",
       "      <th>reading score</th>\n",
       "      <th>writing score</th>\n",
       "      <th>average</th>\n",
       "      <th>classgroup</th>\n",
       "    </tr>\n",
       "  </thead>\n",
       "  <tbody>\n",
       "    <tr>\n",
       "      <th>0</th>\n",
       "      <td>1</td>\n",
       "      <td>0</td>\n",
       "      <td>0</td>\n",
       "      <td>0</td>\n",
       "      <td>100</td>\n",
       "      <td>100</td>\n",
       "      <td>93</td>\n",
       "      <td>97.666667</td>\n",
       "      <td>group A</td>\n",
       "    </tr>\n",
       "    <tr>\n",
       "      <th>1</th>\n",
       "      <td>1</td>\n",
       "      <td>5</td>\n",
       "      <td>1</td>\n",
       "      <td>0</td>\n",
       "      <td>62</td>\n",
       "      <td>67</td>\n",
       "      <td>69</td>\n",
       "      <td>66.000000</td>\n",
       "      <td>group B</td>\n",
       "    </tr>\n",
       "    <tr>\n",
       "      <th>2</th>\n",
       "      <td>1</td>\n",
       "      <td>1</td>\n",
       "      <td>1</td>\n",
       "      <td>1</td>\n",
       "      <td>77</td>\n",
       "      <td>67</td>\n",
       "      <td>68</td>\n",
       "      <td>70.666667</td>\n",
       "      <td>group B</td>\n",
       "    </tr>\n",
       "    <tr>\n",
       "      <th>3</th>\n",
       "      <td>0</td>\n",
       "      <td>0</td>\n",
       "      <td>1</td>\n",
       "      <td>0</td>\n",
       "      <td>59</td>\n",
       "      <td>70</td>\n",
       "      <td>66</td>\n",
       "      <td>65.000000</td>\n",
       "      <td>group B</td>\n",
       "    </tr>\n",
       "    <tr>\n",
       "      <th>4</th>\n",
       "      <td>1</td>\n",
       "      <td>1</td>\n",
       "      <td>1</td>\n",
       "      <td>1</td>\n",
       "      <td>54</td>\n",
       "      <td>49</td>\n",
       "      <td>47</td>\n",
       "      <td>50.000000</td>\n",
       "      <td>group C</td>\n",
       "    </tr>\n",
       "  </tbody>\n",
       "</table>\n",
       "</div>"
      ],
      "text/plain": [
       "   gender  parental level of education  lunch  test preparation course  \\\n",
       "0       1                            0      0                        0   \n",
       "1       1                            5      1                        0   \n",
       "2       1                            1      1                        1   \n",
       "3       0                            0      1                        0   \n",
       "4       1                            1      1                        1   \n",
       "\n",
       "   math score  reading score  writing score    average classgroup  \n",
       "0         100            100             93  97.666667    group A  \n",
       "1          62             67             69  66.000000    group B  \n",
       "2          77             67             68  70.666667    group B  \n",
       "3          59             70             66  65.000000    group B  \n",
       "4          54             49             47  50.000000    group C  "
      ]
     },
     "execution_count": 39,
     "metadata": {},
     "output_type": "execute_result"
    }
   ],
   "source": [
    "from sklearn import preprocessing\n",
    "le_gen = preprocessing.LabelEncoder()\n",
    "df['gender'] = le_gen.fit_transform(df['gender'])\n",
    "le_par = preprocessing.LabelEncoder()\n",
    "df['parental level of education'] = le_par.fit_transform(df['parental level of education'])\n",
    "le_lun = preprocessing.LabelEncoder()\n",
    "df['lunch'] = le_lun.fit_transform(df['lunch'])\n",
    "le_tes = preprocessing.LabelEncoder()\n",
    "df['test preparation course'] = le_tes.fit_transform(df['test preparation course'])\n",
    "df.head()"
   ]
  },
  {
   "cell_type": "code",
   "execution_count": 40,
   "id": "2f668b11",
   "metadata": {},
   "outputs": [],
   "source": [
    "import numpy as np\n",
    "x = np.array(df[['gender','parental level of education','lunch','test preparation course','math score','reading score','writing score','average']])\n",
    "y = np.array(df['classgroup'])\n",
    "\n",
    "# pembagian data menjadi data training dan data testing\n",
    "x_train = x[:-10,:]\n",
    "y_train = y[:-10]\n",
    "x_test = x[-10:,:]\n",
    "y_test = y[-10:]"
   ]
  },
  {
   "cell_type": "code",
   "execution_count": 41,
   "id": "7b322cdb",
   "metadata": {},
   "outputs": [
    {
     "data": {
      "text/plain": [
       "SVC()"
      ]
     },
     "execution_count": 41,
     "metadata": {},
     "output_type": "execute_result"
    }
   ],
   "source": [
    "from sklearn.svm import SVC\n",
    "model = SVC()\n",
    "model.fit(x_train, y_train)"
   ]
  },
  {
   "cell_type": "code",
   "execution_count": 51,
   "id": "31b11510",
   "metadata": {},
   "outputs": [
    {
     "data": {
      "text/plain": [
       "array([ 6, 12, 15, 19, 23, 26, 28, 42, 45, 51, 56, 58, 61, 65, 66, 67, 72,\n",
       "       74, 84, 85,  1,  2,  3,  9, 11, 18, 20, 21, 22, 31, 34, 37, 38, 40,\n",
       "       44, 50, 52, 53, 57, 59, 71, 75, 77, 79, 81, 83, 86, 88,  5,  7,  8,\n",
       "       10, 24, 29, 32, 36, 41, 43, 46, 47, 48, 54, 60, 63, 64, 69, 70, 73,\n",
       "       78, 87])"
      ]
     },
     "execution_count": 51,
     "metadata": {},
     "output_type": "execute_result"
    }
   ],
   "source": [
    "# melihat data index baris ke berapa saja yang menjadi support vector\n",
    "model.support_"
   ]
  },
  {
   "cell_type": "code",
   "execution_count": 52,
   "id": "ccebf284",
   "metadata": {},
   "outputs": [
    {
     "data": {
      "text/plain": [
       "array([20, 28, 22])"
      ]
     },
     "execution_count": 52,
     "metadata": {},
     "output_type": "execute_result"
    }
   ],
   "source": [
    "# jumlah support vektor untuk setiap kelas\n",
    "model.n_support_"
   ]
  },
  {
   "cell_type": "code",
   "execution_count": 53,
   "id": "b9d29d00",
   "metadata": {},
   "outputs": [
    {
     "name": "stdout",
     "output_type": "stream",
     "text": [
      "y_prediksi :  ['group A' 'group B' 'group A' 'group C' 'group C' 'group B' 'group B'\n",
      " 'group A' 'group C' 'group C']\n",
      "y_test     :  ['group A' 'group B' 'group A' 'group C' 'group C' 'group B' 'group B'\n",
      " 'group A' 'group C' 'group C']\n",
      "\n",
      "Akurasi validasi :  1.0\n",
      "Precision score :  1.0\n",
      "Recall score    :  1.0\n"
     ]
    }
   ],
   "source": [
    "from sklearn.metrics import accuracy_score\n",
    "y_prediksi = model.predict(x_test)\n",
    "print(\"y_prediksi : \", y_prediksi)\n",
    "print(\"y_test     : \", y_test)\n",
    "print(\"\\nAkurasi validasi : \", accuracy_score(y_test, y_prediksi))\n",
    "\n",
    "# precision score\n",
    "from sklearn.metrics import precision_score\n",
    "print(\"Precision score : \", precision_score(y_test, y_prediksi,average='micro'))\n",
    "\n",
    "# recall score\n",
    "from sklearn.metrics import recall_score\n",
    "print(\"Recall score    : \", recall_score(y_test, y_prediksi,average='micro'))"
   ]
  },
  {
   "cell_type": "code",
   "execution_count": null,
   "id": "62b1e72d",
   "metadata": {},
   "outputs": [],
   "source": []
  }
 ],
 "metadata": {
  "kernelspec": {
   "display_name": "Python 3 (ipykernel)",
   "language": "python",
   "name": "python3"
  },
  "language_info": {
   "codemirror_mode": {
    "name": "ipython",
    "version": 3
   },
   "file_extension": ".py",
   "mimetype": "text/x-python",
   "name": "python",
   "nbconvert_exporter": "python",
   "pygments_lexer": "ipython3",
   "version": "3.10.2"
  }
 },
 "nbformat": 4,
 "nbformat_minor": 5
}
